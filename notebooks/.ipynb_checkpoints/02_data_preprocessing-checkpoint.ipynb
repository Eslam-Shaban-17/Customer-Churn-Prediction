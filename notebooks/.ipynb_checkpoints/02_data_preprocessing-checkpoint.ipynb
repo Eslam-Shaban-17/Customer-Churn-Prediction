{
 "cells": [
  {
   "cell_type": "markdown",
   "id": "37b1992c-5638-4547-b87c-f4d4ddd7b202",
   "metadata": {},
   "source": [
    "# Notebook 2: Data Preprocessing & Feature Engineering\n",
    "Clean data and create features for modeling"
   ]
  },
  {
   "cell_type": "code",
   "execution_count": 2,
   "id": "860f363c-4610-4afc-a108-5b1ac99fcc96",
   "metadata": {},
   "outputs": [],
   "source": [
    "import pandas as pd\n",
    "import numpy as np\n",
    "from sklearn.preprocessing import LabelEncoder, StandardScaler\n",
    "from sklearn.model_selection import train_test_split\n",
    "import joblib\n",
    "import warnings\n",
    "warnings.filterwarnings('ignore')\n",
    "\n"
   ]
  },
  {
   "cell_type": "code",
   "execution_count": 19,
   "id": "9386977a-3bff-48af-a2e7-2cd810ae6a00",
   "metadata": {},
   "outputs": [
    {
     "name": "stdout",
     "output_type": "stream",
     "text": [
      "Original data shape: (7043, 21)\n"
     ]
    },
    {
     "data": {
      "text/html": [
       "<div>\n",
       "<style scoped>\n",
       "    .dataframe tbody tr th:only-of-type {\n",
       "        vertical-align: middle;\n",
       "    }\n",
       "\n",
       "    .dataframe tbody tr th {\n",
       "        vertical-align: top;\n",
       "    }\n",
       "\n",
       "    .dataframe thead th {\n",
       "        text-align: right;\n",
       "    }\n",
       "</style>\n",
       "<table border=\"1\" class=\"dataframe\">\n",
       "  <thead>\n",
       "    <tr style=\"text-align: right;\">\n",
       "      <th></th>\n",
       "      <th>customerID</th>\n",
       "      <th>gender</th>\n",
       "      <th>SeniorCitizen</th>\n",
       "      <th>Partner</th>\n",
       "      <th>Dependents</th>\n",
       "      <th>tenure</th>\n",
       "      <th>PhoneService</th>\n",
       "      <th>MultipleLines</th>\n",
       "      <th>InternetService</th>\n",
       "      <th>OnlineSecurity</th>\n",
       "      <th>...</th>\n",
       "      <th>DeviceProtection</th>\n",
       "      <th>TechSupport</th>\n",
       "      <th>StreamingTV</th>\n",
       "      <th>StreamingMovies</th>\n",
       "      <th>Contract</th>\n",
       "      <th>PaperlessBilling</th>\n",
       "      <th>PaymentMethod</th>\n",
       "      <th>MonthlyCharges</th>\n",
       "      <th>TotalCharges</th>\n",
       "      <th>Churn</th>\n",
       "    </tr>\n",
       "  </thead>\n",
       "  <tbody>\n",
       "    <tr>\n",
       "      <th>0</th>\n",
       "      <td>7590-VHVEG</td>\n",
       "      <td>Female</td>\n",
       "      <td>0</td>\n",
       "      <td>Yes</td>\n",
       "      <td>No</td>\n",
       "      <td>1</td>\n",
       "      <td>No</td>\n",
       "      <td>No phone service</td>\n",
       "      <td>DSL</td>\n",
       "      <td>No</td>\n",
       "      <td>...</td>\n",
       "      <td>No</td>\n",
       "      <td>No</td>\n",
       "      <td>No</td>\n",
       "      <td>No</td>\n",
       "      <td>Month-to-month</td>\n",
       "      <td>Yes</td>\n",
       "      <td>Electronic check</td>\n",
       "      <td>29.85</td>\n",
       "      <td>29.85</td>\n",
       "      <td>No</td>\n",
       "    </tr>\n",
       "    <tr>\n",
       "      <th>1</th>\n",
       "      <td>5575-GNVDE</td>\n",
       "      <td>Male</td>\n",
       "      <td>0</td>\n",
       "      <td>No</td>\n",
       "      <td>No</td>\n",
       "      <td>34</td>\n",
       "      <td>Yes</td>\n",
       "      <td>No</td>\n",
       "      <td>DSL</td>\n",
       "      <td>Yes</td>\n",
       "      <td>...</td>\n",
       "      <td>Yes</td>\n",
       "      <td>No</td>\n",
       "      <td>No</td>\n",
       "      <td>No</td>\n",
       "      <td>One year</td>\n",
       "      <td>No</td>\n",
       "      <td>Mailed check</td>\n",
       "      <td>56.95</td>\n",
       "      <td>1889.5</td>\n",
       "      <td>No</td>\n",
       "    </tr>\n",
       "    <tr>\n",
       "      <th>2</th>\n",
       "      <td>3668-QPYBK</td>\n",
       "      <td>Male</td>\n",
       "      <td>0</td>\n",
       "      <td>No</td>\n",
       "      <td>No</td>\n",
       "      <td>2</td>\n",
       "      <td>Yes</td>\n",
       "      <td>No</td>\n",
       "      <td>DSL</td>\n",
       "      <td>Yes</td>\n",
       "      <td>...</td>\n",
       "      <td>No</td>\n",
       "      <td>No</td>\n",
       "      <td>No</td>\n",
       "      <td>No</td>\n",
       "      <td>Month-to-month</td>\n",
       "      <td>Yes</td>\n",
       "      <td>Mailed check</td>\n",
       "      <td>53.85</td>\n",
       "      <td>108.15</td>\n",
       "      <td>Yes</td>\n",
       "    </tr>\n",
       "    <tr>\n",
       "      <th>3</th>\n",
       "      <td>7795-CFOCW</td>\n",
       "      <td>Male</td>\n",
       "      <td>0</td>\n",
       "      <td>No</td>\n",
       "      <td>No</td>\n",
       "      <td>45</td>\n",
       "      <td>No</td>\n",
       "      <td>No phone service</td>\n",
       "      <td>DSL</td>\n",
       "      <td>Yes</td>\n",
       "      <td>...</td>\n",
       "      <td>Yes</td>\n",
       "      <td>Yes</td>\n",
       "      <td>No</td>\n",
       "      <td>No</td>\n",
       "      <td>One year</td>\n",
       "      <td>No</td>\n",
       "      <td>Bank transfer (automatic)</td>\n",
       "      <td>42.30</td>\n",
       "      <td>1840.75</td>\n",
       "      <td>No</td>\n",
       "    </tr>\n",
       "    <tr>\n",
       "      <th>4</th>\n",
       "      <td>9237-HQITU</td>\n",
       "      <td>Female</td>\n",
       "      <td>0</td>\n",
       "      <td>No</td>\n",
       "      <td>No</td>\n",
       "      <td>2</td>\n",
       "      <td>Yes</td>\n",
       "      <td>No</td>\n",
       "      <td>Fiber optic</td>\n",
       "      <td>No</td>\n",
       "      <td>...</td>\n",
       "      <td>No</td>\n",
       "      <td>No</td>\n",
       "      <td>No</td>\n",
       "      <td>No</td>\n",
       "      <td>Month-to-month</td>\n",
       "      <td>Yes</td>\n",
       "      <td>Electronic check</td>\n",
       "      <td>70.70</td>\n",
       "      <td>151.65</td>\n",
       "      <td>Yes</td>\n",
       "    </tr>\n",
       "  </tbody>\n",
       "</table>\n",
       "<p>5 rows × 21 columns</p>\n",
       "</div>"
      ],
      "text/plain": [
       "   customerID  gender  SeniorCitizen Partner Dependents  tenure PhoneService  \\\n",
       "0  7590-VHVEG  Female              0     Yes         No       1           No   \n",
       "1  5575-GNVDE    Male              0      No         No      34          Yes   \n",
       "2  3668-QPYBK    Male              0      No         No       2          Yes   \n",
       "3  7795-CFOCW    Male              0      No         No      45           No   \n",
       "4  9237-HQITU  Female              0      No         No       2          Yes   \n",
       "\n",
       "      MultipleLines InternetService OnlineSecurity  ... DeviceProtection  \\\n",
       "0  No phone service             DSL             No  ...               No   \n",
       "1                No             DSL            Yes  ...              Yes   \n",
       "2                No             DSL            Yes  ...               No   \n",
       "3  No phone service             DSL            Yes  ...              Yes   \n",
       "4                No     Fiber optic             No  ...               No   \n",
       "\n",
       "  TechSupport StreamingTV StreamingMovies        Contract PaperlessBilling  \\\n",
       "0          No          No              No  Month-to-month              Yes   \n",
       "1          No          No              No        One year               No   \n",
       "2          No          No              No  Month-to-month              Yes   \n",
       "3         Yes          No              No        One year               No   \n",
       "4          No          No              No  Month-to-month              Yes   \n",
       "\n",
       "               PaymentMethod MonthlyCharges  TotalCharges Churn  \n",
       "0           Electronic check          29.85         29.85    No  \n",
       "1               Mailed check          56.95        1889.5    No  \n",
       "2               Mailed check          53.85        108.15   Yes  \n",
       "3  Bank transfer (automatic)          42.30       1840.75    No  \n",
       "4           Electronic check          70.70        151.65   Yes  \n",
       "\n",
       "[5 rows x 21 columns]"
      ]
     },
     "execution_count": 19,
     "metadata": {},
     "output_type": "execute_result"
    }
   ],
   "source": [
    "# %%\n",
    "# Load raw data\n",
    "df = pd.read_csv('../data/raw/WA_Fn-UseC_-Telco-Customer-Churn.csv')\n",
    "print(f\"Original data shape: {df.shape}\")\n",
    "df.head()\n"
   ]
  },
  {
   "cell_type": "code",
   "execution_count": 20,
   "id": "3c509023-cf9c-4670-aa6a-05cd8184f105",
   "metadata": {},
   "outputs": [
    {
     "name": "stdout",
     "output_type": "stream",
     "text": [
      "\n",
      "1. HANDLING MISSING VALUES\n",
      "============================================================\n",
      "Missing values in TotalCharges: 11\n",
      "After handling: 0 missing values\n"
     ]
    }
   ],
   "source": [
    "# Step 1: Handle missing values\n",
    "print(\"\\n1. HANDLING MISSING VALUES\")\n",
    "print(\"=\"*60)\n",
    "\n",
    "# Convert TotalCharges to numeric\n",
    "df['TotalCharges'] = pd.to_numeric(df['TotalCharges'], errors='coerce')\n",
    "\n",
    "# Check missing values\n",
    "print(f\"Missing values in TotalCharges: {df['TotalCharges'].isna().sum()}\")\n",
    "\n",
    "# Fill missing values with median\n",
    "df['TotalCharges'].fillna(df['TotalCharges'].median(), inplace=True)\n",
    "\n",
    "print(f\"After handling: {df['TotalCharges'].isna().sum()} missing values\")"
   ]
  },
  {
   "cell_type": "code",
   "execution_count": 21,
   "id": "b0e897cf-8664-4ae1-bc9f-ccfa2b4ce4f6",
   "metadata": {},
   "outputs": [
    {
     "name": "stdout",
     "output_type": "stream",
     "text": [
      "\n",
      "2. CONVERTING TARGET VARIABLE\n",
      "============================================================\n",
      "Churn distribution:\n",
      "Churn\n",
      "0    5174\n",
      "1    1869\n",
      "Name: count, dtype: int64\n"
     ]
    }
   ],
   "source": [
    "# Step 2: Convert target variable\n",
    "print(\"\\n2. CONVERTING TARGET VARIABLE\")\n",
    "print(\"=\"*60)\n",
    "\n",
    "df['Churn'] = df['Churn'].map({'Yes': 1, 'No': 0})\n",
    "print(\"Churn distribution:\")\n",
    "print(df['Churn'].value_counts())"
   ]
  },
  {
   "cell_type": "code",
   "execution_count": 22,
   "id": "40984f79-1b82-427e-9a5e-d9c0baa47126",
   "metadata": {},
   "outputs": [
    {
     "name": "stdout",
     "output_type": "stream",
     "text": [
      "\n",
      "3. FEATURE ENGINEERING\n",
      "============================================================\n",
      "New features created:\n",
      "  ✓ TenureGroup\n",
      "  ✓ ChargesPerMonth\n",
      "  ✓ TotalServices\n"
     ]
    }
   ],
   "source": [
    "# Step 3: Feature Engineering\n",
    "print(\"\\n3. FEATURE ENGINEERING\")\n",
    "print(\"=\"*60)\n",
    "\n",
    "# Create tenure groups\n",
    "df['TenureGroup'] = pd.cut(\n",
    "    df['tenure'],\n",
    "    bins=[0, 12, 24, 48, 72],\n",
    "    labels=[0, 1, 2, 3],\n",
    "    include_lowest=True\n",
    ").astype(int)\n",
    "\n",
    "\n",
    "df['TenureGroup'] = df['TenureGroup'].astype(int)\n",
    "\n",
    "# Charges per month\n",
    "df['ChargesPerMonth'] = df['TotalCharges'] / (df['tenure'] + 1)\n",
    "\n",
    "# Total services count\n",
    "service_cols = ['PhoneService', 'MultipleLines', 'InternetService', \n",
    "                'OnlineSecurity', 'OnlineBackup', 'DeviceProtection', \n",
    "                'TechSupport', 'StreamingTV', 'StreamingMovies']\n",
    "df['TotalServices'] = (df[service_cols] != 'No').sum(axis=1)\n",
    "\n",
    "print(\"New features created:\")\n",
    "print(\"  ✓ TenureGroup\")\n",
    "print(\"  ✓ ChargesPerMonth\")\n",
    "print(\"  ✓ TotalServices\")\n"
   ]
  },
  {
   "cell_type": "code",
   "execution_count": 23,
   "id": "181b325d-9d64-4c33-af20-778b6ae533fb",
   "metadata": {},
   "outputs": [
    {
     "name": "stdout",
     "output_type": "stream",
     "text": [
      "\n",
      "4. REMOVING UNNECESSARY COLUMNS\n",
      "============================================================\n",
      "Dropped: customerID\n",
      "New shape: (7043, 23)\n"
     ]
    }
   ],
   "source": [
    "# Step 4: Remove unnecessary columns\n",
    "print(\"\\n4. REMOVING UNNECESSARY COLUMNS\")\n",
    "print(\"=\"*60)\n",
    "\n",
    "df_processed = df.drop('customerID', axis=1)\n",
    "print(f\"Dropped: customerID\")\n",
    "print(f\"New shape: {df_processed.shape}\")"
   ]
  },
  {
   "cell_type": "code",
   "execution_count": 24,
   "id": "6ede856b-e680-4dc4-aba9-6ee570ce49fb",
   "metadata": {},
   "outputs": [
    {
     "name": "stdout",
     "output_type": "stream",
     "text": [
      "\n",
      "5. ENCODING CATEGORICAL VARIABLES\n",
      "============================================================\n",
      "Categorical columns: 15\n"
     ]
    }
   ],
   "source": [
    "# Step 5: Encode categorical variables\n",
    "print(\"\\n5. ENCODING CATEGORICAL VARIABLES\")\n",
    "print(\"=\"*60)\n",
    "\n",
    "# Get categorical columns\n",
    "categorical_cols = df_processed.select_dtypes(include=['object']).columns.tolist()\n",
    "print(f\"Categorical columns: {len(categorical_cols)}\")"
   ]
  },
  {
   "cell_type": "code",
   "execution_count": 25,
   "id": "4a7354f6-e4c4-40f6-b327-25a69cbc8d47",
   "metadata": {},
   "outputs": [
    {
     "name": "stdout",
     "output_type": "stream",
     "text": [
      "  ✓ Encoded: gender\n",
      "  ✓ Encoded: Partner\n",
      "  ✓ Encoded: Dependents\n",
      "  ✓ Encoded: PhoneService\n",
      "  ✓ Encoded: MultipleLines\n",
      "  ✓ Encoded: InternetService\n",
      "  ✓ Encoded: OnlineSecurity\n",
      "  ✓ Encoded: OnlineBackup\n",
      "  ✓ Encoded: DeviceProtection\n",
      "  ✓ Encoded: TechSupport\n",
      "  ✓ Encoded: StreamingTV\n",
      "  ✓ Encoded: StreamingMovies\n",
      "  ✓ Encoded: Contract\n",
      "  ✓ Encoded: PaperlessBilling\n",
      "  ✓ Encoded: PaymentMethod\n"
     ]
    }
   ],
   "source": [
    "# Encode each column\n",
    "label_encoders = {}\n",
    "for col in categorical_cols:\n",
    "    le = LabelEncoder()\n",
    "    df_processed[col] = le.fit_transform(df_processed[col].astype(str))\n",
    "    label_encoders[col] = le\n",
    "    print(f\"  ✓ Encoded: {col}\")"
   ]
  },
  {
   "cell_type": "code",
   "execution_count": 26,
   "id": "3ee11bb5-0228-4658-976d-6d44621f29c8",
   "metadata": {},
   "outputs": [
    {
     "name": "stdout",
     "output_type": "stream",
     "text": [
      "\n",
      "6. PREPARING FEATURES AND TARGET\n",
      "============================================================\n",
      "Features shape: (7043, 22)\n",
      "Target shape: (7043,)\n",
      "\n",
      "Feature names:\n",
      "['gender', 'SeniorCitizen', 'Partner', 'Dependents', 'tenure', 'PhoneService', 'MultipleLines', 'InternetService', 'OnlineSecurity', 'OnlineBackup', 'DeviceProtection', 'TechSupport', 'StreamingTV', 'StreamingMovies', 'Contract', 'PaperlessBilling', 'PaymentMethod', 'MonthlyCharges', 'TotalCharges', 'TenureGroup', 'ChargesPerMonth', 'TotalServices']\n"
     ]
    }
   ],
   "source": [
    "# Step 6: Prepare features and target\n",
    "print(\"\\n6. PREPARING FEATURES AND TARGET\")\n",
    "print(\"=\"*60)\n",
    "\n",
    "X = df_processed.drop('Churn', axis=1)\n",
    "y = df_processed['Churn']\n",
    "\n",
    "print(f\"Features shape: {X.shape}\")\n",
    "print(f\"Target shape: {y.shape}\")\n",
    "print(f\"\\nFeature names:\")\n",
    "print(X.columns.tolist())\n"
   ]
  },
  {
   "cell_type": "code",
   "execution_count": 27,
   "id": "4348db03-6b0d-401d-aff1-d37cd598b645",
   "metadata": {},
   "outputs": [
    {
     "name": "stdout",
     "output_type": "stream",
     "text": [
      "\n",
      "7. TRAIN-TEST SPLIT\n",
      "============================================================\n",
      "Training set: 5634 samples\n",
      "Test set: 1409 samples\n",
      "Train churn rate: 26.5%\n",
      "Test churn rate: 26.5%\n"
     ]
    }
   ],
   "source": [
    "# Step 7: Train-test split\n",
    "print(\"\\n7. TRAIN-TEST SPLIT\")\n",
    "print(\"=\"*60)\n",
    "\n",
    "X_train, X_test, y_train, y_test = train_test_split(\n",
    "    X, y, test_size=0.2, random_state=42, stratify=y\n",
    ")\n",
    "\n",
    "print(f\"Training set: {X_train.shape[0]} samples\")\n",
    "print(f\"Test set: {X_test.shape[0]} samples\")\n",
    "print(f\"Train churn rate: {y_train.mean()*100:.1f}%\")\n",
    "print(f\"Test churn rate: {y_test.mean()*100:.1f}%\")\n"
   ]
  },
  {
   "cell_type": "code",
   "execution_count": 28,
   "id": "0fb63b8a-5f32-4113-a200-ca3940215f10",
   "metadata": {},
   "outputs": [
    {
     "name": "stdout",
     "output_type": "stream",
     "text": [
      "\n",
      "8. FEATURE SCALING\n",
      "============================================================\n",
      "✓ Features scaled using StandardScaler\n",
      "Scaled training data shape: (5634, 22)\n"
     ]
    }
   ],
   "source": [
    "# Step 8: Feature scaling\n",
    "print(\"\\n8. FEATURE SCALING\")\n",
    "print(\"=\"*60)\n",
    "\n",
    "scaler = StandardScaler()\n",
    "X_train_scaled = scaler.fit_transform(X_train)\n",
    "X_test_scaled = scaler.transform(X_test)\n",
    "\n",
    "print(\"✓ Features scaled using StandardScaler\")\n",
    "print(f\"Scaled training data shape: {X_train_scaled.shape}\")\n"
   ]
  },
  {
   "cell_type": "code",
   "execution_count": 30,
   "id": "54c6492a-7990-4de9-ae41-7a2ec5e2b887",
   "metadata": {},
   "outputs": [
    {
     "name": "stdout",
     "output_type": "stream",
     "text": [
      "\n",
      "9. SAVING ARTIFACTS\n",
      "============================================================\n",
      "✓ Processed data saved\n"
     ]
    }
   ],
   "source": [
    "# Step 9: Save processed data and artifacts\n",
    "print(\"\\n9. SAVING ARTIFACTS\")\n",
    "print(\"=\"*60)\n",
    "\n",
    "# Save processed dataframe\n",
    "df_processed.to_csv('../data/processed/processed_churn_data.csv', index=False)\n",
    "print(\"✓ Processed data saved\")"
   ]
  },
  {
   "cell_type": "code",
   "execution_count": 31,
   "id": "a9eb2087-480f-4b5d-b331-e81dde3d0672",
   "metadata": {},
   "outputs": [
    {
     "name": "stdout",
     "output_type": "stream",
     "text": [
      "✓ Train-test data saved\n"
     ]
    }
   ],
   "source": [
    "# Save train-test split\n",
    "np.save('../data/processed/X_train.npy', X_train_scaled)\n",
    "np.save('../data/processed/X_test.npy', X_test_scaled)\n",
    "np.save('../data/processed/y_train.npy', y_train)\n",
    "np.save('../data/processed/y_test.npy', y_test)\n",
    "print(\"✓ Train-test data saved\")"
   ]
  },
  {
   "cell_type": "code",
   "execution_count": 32,
   "id": "fa5ea480-55f1-4dc6-a47a-c3d16c3619be",
   "metadata": {},
   "outputs": [
    {
     "name": "stdout",
     "output_type": "stream",
     "text": [
      "✓ Scaler and encoders saved\n"
     ]
    }
   ],
   "source": [
    "# Save scaler and encoders\n",
    "joblib.dump(scaler, '../models/scaler.pkl')\n",
    "joblib.dump(label_encoders, '../models/label_encoders.pkl')\n",
    "joblib.dump(X.columns.tolist(), '../models/feature_names.pkl')\n",
    "print(\"✓ Scaler and encoders saved\")"
   ]
  },
  {
   "cell_type": "code",
   "execution_count": 33,
   "id": "948d2e48-e0b5-4fa4-9d3b-303c98aedfd7",
   "metadata": {
    "scrolled": true
   },
   "outputs": [
    {
     "name": "stdout",
     "output_type": "stream",
     "text": [
      "\n",
      "============================================================\n",
      "PREPROCESSING COMPLETE!\n",
      "============================================================\n",
      "\n",
      "📊 Summary:\n",
      "  • Original features: 24\n",
      "  • Processed features: 22\n",
      "  • New features created: 3\n",
      "  • Training samples: 5634\n",
      "  • Test samples: 1409\n",
      "\n",
      "📁 Files saved:\n",
      "  ✓ ../data/processed/processed_churn_data.csv\n",
      "  ✓ ../data/processed/X_train.npy\n",
      "  ✓ ../data/processed/X_test.npy\n",
      "  ✓ ../data/processed/y_train.npy\n",
      "  ✓ ../data/processed/y_test.npy\n",
      "  ✓ ../models/scaler.pkl\n",
      "  ✓ ../models/label_encoders.pkl\n",
      "  ✓ ../models/feature_names.pkl\n",
      "\n",
      "✓ Ready for model training!\n"
     ]
    }
   ],
   "source": [
    "# Summary\n",
    "print(\"\\n\" + \"=\"*60)\n",
    "print(\"PREPROCESSING COMPLETE!\")\n",
    "print(\"=\"*60)\n",
    "\n",
    "print(\"\\n📊 Summary:\")\n",
    "print(f\"  • Original features: {df.shape[1]}\")\n",
    "print(f\"  • Processed features: {X.shape[1]}\")\n",
    "print(f\"  • New features created: 3\")\n",
    "print(f\"  • Training samples: {X_train.shape[0]}\")\n",
    "print(f\"  • Test samples: {X_test.shape[0]}\")\n",
    "\n",
    "print(\"\\n📁 Files saved:\")\n",
    "print(\"  ✓ ../data/processed/processed_churn_data.csv\")\n",
    "print(\"  ✓ ../data/processed/X_train.npy\")\n",
    "print(\"  ✓ ../data/processed/X_test.npy\")\n",
    "print(\"  ✓ ../data/processed/y_train.npy\")\n",
    "print(\"  ✓ ../data/processed/y_test.npy\")\n",
    "print(\"  ✓ ../models/scaler.pkl\")\n",
    "print(\"  ✓ ../models/label_encoders.pkl\")\n",
    "print(\"  ✓ ../models/feature_names.pkl\")\n",
    "\n",
    "print(\"\\n✓ Ready for model training!\")\n"
   ]
  }
 ],
 "metadata": {
  "kernelspec": {
   "display_name": "Python [conda env:base] *",
   "language": "python",
   "name": "conda-base-py"
  },
  "language_info": {
   "codemirror_mode": {
    "name": "ipython",
    "version": 3
   },
   "file_extension": ".py",
   "mimetype": "text/x-python",
   "name": "python",
   "nbconvert_exporter": "python",
   "pygments_lexer": "ipython3",
   "version": "3.11.13"
  }
 },
 "nbformat": 4,
 "nbformat_minor": 5
}
